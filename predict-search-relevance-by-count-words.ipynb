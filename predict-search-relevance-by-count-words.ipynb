{
 "cells": [
  {
   "cell_type": "code",
   "execution_count": null,
   "metadata": {},
   "outputs": [],
   "source": [
    "!pip install xgboost"
   ]
  },
  {
   "cell_type": "code",
   "execution_count": null,
   "metadata": {},
   "outputs": [],
   "source": [
    "# Imports\n",
    "\n",
    "# pandas\n",
    "import pandas as pd\n",
    "from pandas import Series,DataFrame\n",
    "\n",
    "# numpy, matplotlib, seaborn\n",
    "import numpy as np\n",
    "import matplotlib.pyplot as plt\n",
    "import seaborn as sns\n",
    "sns.set_style('whitegrid')\n",
    "%matplotlib inline\n",
    "\n",
    "# machine learning\n",
    "from sklearn.linear_model import LinearRegression\n",
    "from sklearn.linear_model import LogisticRegression\n",
    "from sklearn.svm import SVC, LinearSVC\n",
    "from sklearn.ensemble import RandomForestClassifier\n",
    "from sklearn.neighbors import KNeighborsClassifier\n",
    "from sklearn.naive_bayes import GaussianNB\n",
    "# from sklearn import cross_validation\n",
    "# import xgboost as xgb"
   ]
  },
  {
   "cell_type": "code",
   "execution_count": null,
   "metadata": {},
   "outputs": [],
   "source": [
    "# get homedepot & test csv files as a DataFrame\n",
    "homedepot_df     = pd.read_csv('train.csv', encoding=\"ISO-8859-1\")\n",
    "descriptions_df  = pd.read_csv('product_descriptions.csv')\n",
    "test_df          = pd.read_csv('test.csv', encoding=\"ISO-8859-1\")\n",
    "\n",
    "# preview the data\n",
    "homedepot_df.head()"
   ]
  },
  {
   "cell_type": "code",
   "execution_count": null,
   "metadata": {},
   "outputs": [],
   "source": [
    "homedepot_df.info()\n",
    "print(\"----------------------------\")\n",
    "test_df.info()"
   ]
  },
  {
   "cell_type": "code",
   "execution_count": null,
   "metadata": {},
   "outputs": [],
   "source": [
    "# Convert product_title & product_description to cunt_words_in_title & cunt_words_in_description, \n",
    "# where cunt_words_in_title counts how many times a word in search_term appeared in product_title, \n",
    "# and so for cunt_words_in_description\n",
    "\n",
    "# Now, instead of dealing with strings, we have numbers that indicate \n",
    "# the relevance between the search_term and product title & description.\n",
    "\n",
    "# Step 1: Merge descriptions dataframe\n",
    "homedepot_df = pd.merge(homedepot_df, descriptions_df, how='left', on='product_uid')\n",
    "test_df      = pd.merge(test_df, descriptions_df, how='left', on='product_uid')\n",
    "\n",
    "homedepot_df.head()"
   ]
  },
  {
   "cell_type": "code",
   "execution_count": null,
   "metadata": {},
   "outputs": [],
   "source": [
    "# Step 2: Normalize the title and description using stemming algorithms(i.e. SnowballStemmer)\n",
    "# @see https://xapian.org/docs/stemming.html\n",
    "# @see http://www.nltk.org/api/nltk.stem.html\n",
    "\n",
    "from nltk.stem.snowball import SnowballStemmer\n",
    "stemmer = SnowballStemmer('english')\n",
    "\n",
    "def str_stemmer(s):\n",
    "    return \" \".join([stemmer.stem(word) for word in s.lower().split()])\n",
    "\n",
    "homedepot_df['search_term']         = homedepot_df['search_term'].apply(str_stemmer)\n",
    "homedepot_df['product_title']       = homedepot_df['product_title'].apply(str_stemmer)\n",
    "homedepot_df['product_description'] = homedepot_df['product_description'].apply(str_stemmer)\n",
    "\n",
    "test_df['search_term']         = test_df['search_term'].apply(str_stemmer)\n",
    "test_df['product_title']       = test_df['product_title'].apply(str_stemmer)\n",
    "test_df['product_description'] = test_df['product_description'].apply(str_stemmer)"
   ]
  },
  {
   "cell_type": "code",
   "execution_count": null,
   "metadata": {},
   "outputs": [],
   "source": [
    "# Step 3: Count how many times each word in search_term appeared in product_title & product_description\n",
    "\n",
    "def count_words(strs):\n",
    "    str_words, str_search = strs\n",
    "    return sum(int(str_search.find(word) >= 0) for word in str_words.split())\n",
    "    \n",
    "homedepot_df['cunt_words_in_title']       = homedepot_df[['product_title', 'search_term']].apply(count_words,axis=1)\n",
    "homedepot_df['cunt_words_in_description'] = homedepot_df[['product_description', 'search_term']].apply(count_words,axis=1)\n",
    "\n",
    "test_df['cunt_words_in_title']       = test_df[['product_title', 'search_term']].apply(count_words,axis=1)\n",
    "test_df['cunt_words_in_description'] = test_df[['product_description', 'search_term']].apply(count_words,axis=1)"
   ]
  },
  {
   "cell_type": "code",
   "execution_count": null,
   "metadata": {},
   "outputs": [],
   "source": [
    "# Step 4: Drop unnecessary columns\n",
    "\n",
    "homedepot_df.drop(['product_title','product_description','search_term'], inplace=True, axis=1)\n",
    "test_df.drop(['product_title','product_description','search_term'], inplace=True, axis=1)"
   ]
  },
  {
   "cell_type": "code",
   "execution_count": null,
   "metadata": {},
   "outputs": [],
   "source": [
    "# define training and testing sets\n",
    "\n",
    "X_train = homedepot_df.drop([\"id\",\"relevance\"],axis=1)\n",
    "Y_train = homedepot_df[\"relevance\"]\n",
    "X_test  = test_df.drop(\"id\",axis=1).copy()"
   ]
  },
  {
   "cell_type": "code",
   "execution_count": null,
   "metadata": {},
   "outputs": [],
   "source": [
    "# Linear Regression\n",
    "\n",
    "lreg = LinearRegression()\n",
    "\n",
    "lreg.fit(X_train, Y_train)\n",
    "\n",
    "Y_pred = lreg.predict(X_test)\n",
    "\n",
    "lreg.score(X_train, Y_train)"
   ]
  },
  {
   "cell_type": "code",
   "execution_count": null,
   "metadata": {},
   "outputs": [],
   "source": [
    "# Xgboost \n",
    "\n",
    "params = {\"objective\": \"reg:linear\", \"max_depth\": 10}\n",
    "\n",
    "T_train_xgb = xgb.DMatrix(X_train, Y_train)\n",
    "X_test_xgb  = xgb.DMatrix(X_test)\n",
    "\n",
    "gbm = xgb.train(params, T_train_xgb, 20)\n",
    "Y_pred = gbm.predict(X_test_xgb)"
   ]
  },
  {
   "cell_type": "code",
   "execution_count": null,
   "metadata": {},
   "outputs": [],
   "source": [
    "# Create submission\n",
    "\n",
    "submission = pd.DataFrame()\n",
    "submission[\"id\"]        = test_df[\"id\"]\n",
    "submission[\"relevance\"] = Y_pred\n",
    "submission[\"relevance\"][submission[\"relevance\"] < 1] = 1\n",
    "submission[\"relevance\"][submission[\"relevance\"] > 3] = 3\n",
    "\n",
    "submission.to_csv('homedepot.csv', index=False)"
   ]
  }
 ],
 "metadata": {
  "kernelspec": {
   "display_name": "Python 3",
   "language": "python",
   "name": "python3"
  },
  "language_info": {
   "codemirror_mode": {
    "name": "ipython",
    "version": 3
   },
   "file_extension": ".py",
   "mimetype": "text/x-python",
   "name": "python",
   "nbconvert_exporter": "python",
   "pygments_lexer": "ipython3",
   "version": "3.6.6"
  }
 },
 "nbformat": 4,
 "nbformat_minor": 1
}
